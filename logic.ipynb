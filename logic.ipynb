{
 "cells": [
  {
   "cell_type": "code",
   "execution_count": 1,
   "metadata": {},
   "outputs": [],
   "source": [
    "#importowanie bibliotek\n",
    "import pandas as pd\n",
    "import nltk\n",
    "import string\n",
    "from pathlib import Path\n",
    "from nltk.stem.porter import PorterStemmer\n",
    "from nltk.corpus import stopwords\n",
    "from sklearn.model_selection import train_test_split\n",
    "from sklearn.feature_extraction.text import TfidfVectorizer\n",
    "from sklearn.naive_bayes import MultinomialNB\n",
    "from sklearn.metrics import accuracy_score, confusion_matrix, precision_score, recall_score, f1_score"
   ]
  },
  {
   "cell_type": "code",
   "execution_count": 2,
   "metadata": {},
   "outputs": [],
   "source": [
    "#pobranie potrzebny dany ze zbioru biblioteki nltk\n",
    "try:\n",
    "    nltk.data.find('corpora/stopwords')\n",
    "except LookupError:\n",
    "    nltk.download('stopwords')"
   ]
  },
  {
   "cell_type": "code",
   "execution_count": 3,
   "metadata": {},
   "outputs": [],
   "source": [
    "#zainicjowanie nowego obiektu PorterStemmer()\n",
    "ps = PorterStemmer()"
   ]
  },
  {
   "cell_type": "code",
   "execution_count": 4,
   "metadata": {},
   "outputs": [],
   "source": [
    "def cleanup():  \n",
    "    # Usuwanie kolumny FILE_NAME\n",
    "    spam_df.drop(columns=\"FILE_NAME\", inplace=True)\n",
    "    #usunięcie wierszy zduplikowanych\n",
    "    spam_df.drop_duplicates(inplace=True)"
   ]
  },
  {
   "cell_type": "code",
   "execution_count": 5,
   "metadata": {},
   "outputs": [],
   "source": [
    "#funkcja odpowiedzialna za czyszczenie tekstu mailu z pliku danych\n",
    "def transform_text(text):\n",
    "    text = text.lower() #sprowadzenie znaku do małych liter\n",
    "    text = nltk.word_tokenize(text) #tokenizacja\n",
    "\n",
    "    y = []\n",
    "    for i in text:\n",
    "        if i.isalnum():\n",
    "            y.append(i) #sprawdzenie czy znak jest alfanumeryczny\n",
    "    text = y[:]\n",
    "    y.clear()\n",
    "\n",
    "    for i in text:\n",
    "        if i not in stopwords.words('english') and i not in string.punctuation:\n",
    "            y.append(i) #usunięcie wyrazów znajdujących się w stopwords i znaków interpunkcyjnych\n",
    "\n",
    "    text = y[:]\n",
    "    y.clear()\n",
    "\n",
    "    for i in text:\n",
    "        y.append(ps.stem(i)) #stemming słowa\n",
    "    return \" \".join(y)"
   ]
  },
  {
   "cell_type": "code",
   "execution_count": 6,
   "metadata": {},
   "outputs": [],
   "source": [
    "#Sprawdzenie i ewentualne odczytanie pliku zawierającego już oczyszczony tekst w celu przyspieszenia pracy programu\n",
    "\n",
    "my_file = Path(\"spam_NLP_cleaned.csv\")\n",
    "\n",
    "if my_file.is_file():\n",
    "    spam_df = pd.read_csv(my_file)\n",
    "else:\n",
    "    #wczytanie pliku z listą danych\n",
    "    spam_df = pd.read_csv(\"spam_NLP.csv\")\n",
    "    cleanup()\n",
    "    spam_df[\"MESSAGE_COV\"] = spam_df[\"MESSAGE\"].apply(transform_text)\n",
    "    spam_df.to_csv(my_file)"
   ]
  },
  {
   "cell_type": "code",
   "execution_count": 7,
   "metadata": {},
   "outputs": [],
   "source": [
    "#wektoryzacja tekstu\n",
    "tfidf = TfidfVectorizer()\n",
    "X = tfidf.fit_transform(spam_df[\"MESSAGE_COV\"]).toarray()\n",
    "y = spam_df[\"CATEGORY\"].values"
   ]
  },
  {
   "cell_type": "code",
   "execution_count": 8,
   "metadata": {},
   "outputs": [],
   "source": [
    "# Podzielenie danych na Train/Test\n",
    "x_train, x_test, y_train, y_test = train_test_split(X, y, test_size=0.2)"
   ]
  },
  {
   "cell_type": "code",
   "execution_count": 9,
   "metadata": {},
   "outputs": [],
   "source": [
    "# utworzenie modelu na podstawie Wielomianowego naiwnego klasyfikatora Bayesa\n",
    "model = MultinomialNB()\n",
    "model.fit(x_train, y_train)\n",
    "#sprawdzenie i ocena danych testowych\n",
    "y_pred = model.predict(x_test)\n",
    "accuracy = accuracy_score(y_test, y_pred)\n",
    "precision = precision_score(y_test, y_pred)\n",
    "recall = recall_score(y_test, y_pred)\n",
    "f1 = f1_score(y_test, y_pred)\n",
    "\n",
    "confusion = confusion_matrix(y_test, y_pred)\n",
    "\n",
    "#utworzenie ciągu znaków z ocenami modelu\n",
    "Scores_String = \"Accuracy: \" + str(round(accuracy, 4))\n",
    "Scores_String += \"\\nPrecision: \" + str(round(precision, 4))\n",
    "Scores_String += \"\\nRecall: \" + str(round(recall, 4))\n",
    "Scores_String += \"\\nF1 Score: \" + str(round(f1, 4))\n",
    "\n",
    "Scores_String += \"\\n\\nConfusion Matrix:\\n\" + str(confusion)"
   ]
  },
  {
   "cell_type": "code",
   "execution_count": 10,
   "metadata": {},
   "outputs": [],
   "source": [
    "#Wczytanie pliku z w wygenerowanymi danymi testowymi\n",
    "test_data = pd.read_csv(\"TEST_DATA_spam.csv\",encoding=\"ANSI\") "
   ]
  },
  {
   "cell_type": "markdown",
   "metadata": {},
   "source": []
  }
 ],
 "metadata": {
  "kernelspec": {
   "display_name": "Python 3",
   "language": "python",
   "name": "python3"
  },
  "language_info": {
   "codemirror_mode": {
    "name": "ipython",
    "version": 3
   },
   "file_extension": ".py",
   "mimetype": "text/x-python",
   "name": "python",
   "nbconvert_exporter": "python",
   "pygments_lexer": "ipython3",
   "version": "3.12.3"
  }
 },
 "nbformat": 4,
 "nbformat_minor": 2
}
